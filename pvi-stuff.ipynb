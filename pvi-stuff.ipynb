{
 "cells": [
  {
   "cell_type": "markdown",
   "metadata": {},
   "source": [
    "# Working With Elections Data"
   ]
  },
  {
   "cell_type": "code",
   "execution_count": null,
   "metadata": {},
   "outputs": [],
   "source": [
    "# Inline Chart Parameters\n",
    "%matplotlib inline  \n",
    "from matplotlib import rcParams\n",
    "rcParams['figure.figsize'] = (16, 100)\n",
    "\n",
    "# R imports\n",
    "%load_ext rpy2.ipython\n",
    "\n",
    "# Ignore Warnings\n",
    "import warnings\n",
    "warnings.filterwarnings('ignore')\n",
    "\n",
    "# Python Imports\n",
    "import pandas as pd\n",
    "import numpy as np\n",
    "import us\n",
    "from utils import download_pres_results\n",
    "import matplotlib.pyplot as plt\n",
    "from datetime import datetime, timedelta"
   ]
  },
  {
   "cell_type": "code",
   "execution_count": null,
   "metadata": {},
   "outputs": [],
   "source": [
    "%%R\n",
    "\n",
    "smartRequire <- function(pkg) {\n",
    "  if (!require(pkg, character.only = T)) { install.packages(pkg, repos='http://cran.us.r-project.org') }\n",
    "  require(pkg, character.only = T)\n",
    "}\n",
    "\n",
    "libs <- c(\"ggplot2\", \"readr\", \"gridExtra\")\n",
    "lapply(libs, smartRequire)\n",
    "sprintf(\"Successfully loaded: %s\", libs)"
   ]
  },
  {
   "cell_type": "code",
   "execution_count": null,
   "metadata": {},
   "outputs": [],
   "source": [
    "%%javascript\n",
    "IPython.OutputArea.prototype._should_scroll = function(lines) {\n",
    "    return false;\n",
    "}"
   ]
  },
  {
   "cell_type": "markdown",
   "metadata": {},
   "source": [
    "Today's Datasets\n",
    "- Election Results\n",
    "    - [Presidential Results Compiled by DailyKos (via U.S. ElectionAtlas)](https://docs.google.com/spreadsheets/d/1D-edaVHTnZNhVU840EPUhz3Cgd7m39Urx7HM8Pq6Pus/edit#gid=29622862)\n",
    "    - [Presidential Results @ County Level for 2016 - US Election Atlas]()\n",
    "- [Polls](https://github.com/fivethirtyeight/data/tree/master/pollster-ratings)\n",
    "- [Pollster Ratings](https://github.com/fivethirtyeight/data/tree/master/pollster-ratings)"
   ]
  },
  {
   "cell_type": "markdown",
   "metadata": {},
   "source": [
    "## Election Results"
   ]
  },
  {
   "cell_type": "markdown",
   "metadata": {},
   "source": [
    "### PVI"
   ]
  },
  {
   "cell_type": "code",
   "execution_count": null,
   "metadata": {},
   "outputs": [],
   "source": [
    "pres_results_raw = download_pres_results()\n",
    "\n",
    "def state_to_abbrev(state):\n",
    "    return us.states.lookup(state).abbr\n",
    "pres_results_national = pres_results_raw[pres_results_raw.state == 'Nationwide']\n",
    "pres_results_national['d_margin'] = pres_results_national.DEM - pres_results_national.REP\n",
    "\n",
    "pres_results_by_state = pres_results_raw[~pres_results_raw.state.isin(['Washington DC','Nationwide'])]\n",
    "pres_results_by_state['d_margin'] = pres_results_by_state.DEM - pres_results_by_state.REP"
   ]
  },
  {
   "cell_type": "code",
   "execution_count": null,
   "metadata": {},
   "outputs": [],
   "source": [
    "%%R -i pres_results_national\n",
    "# pres_results_national\n",
    "ggplot(data=pres_results_national,aes(x=year, y=d_margin)) + \n",
    "geom_bar(stat=\"identity\") +\n",
    "ggtitle(\"Presidential Election Results - Popular Vote\")"
   ]
  },
  {
   "cell_type": "code",
   "execution_count": null,
   "metadata": {},
   "outputs": [],
   "source": [
    "%%R -i pres_results_by_state\n",
    "\n",
    "pres_results_by_state\n",
    "ggplot(data=pres_results_by_state,aes(x=year, y=d_margin, group=state, alpha=.1,col = ifelse(state=='California','gray','red'))) + \n",
    "geom_line()"
   ]
  },
  {
   "cell_type": "code",
   "execution_count": null,
   "metadata": {},
   "outputs": [],
   "source": [
    "pres_results_national.head()"
   ]
  },
  {
   "cell_type": "code",
   "execution_count": null,
   "metadata": {},
   "outputs": [],
   "source": [
    "df = pres_results_by_state\n",
    "\n",
    "df['previous_year'] = df.year - 4\n",
    "\n",
    "df = pd.merge(\n",
    "    df, \n",
    "    pres_results_by_state[['year','state','REP', 'DEM']],\n",
    "    how='left', left_on=('previous_year', 'state'), right_on=('year', 'state'), suffixes=('','_previous_year'))\n",
    "\n",
    "df = pd.merge(\n",
    "    df, \n",
    "    pres_results_national[['year','REP', 'DEM']],\n",
    "    how='left', on='year', suffixes=('','_national'))\n",
    "\n",
    "df = pd.merge(\n",
    "    df, \n",
    "    pres_results_national[['year','REP', 'DEM']],\n",
    "    how='left', left_on='previous_year', right_on='year', suffixes=('','_previous_year_national'))\n",
    "\n",
    "del df['year_previous_year_national']\n",
    "del df['year_previous_year']\n",
    "\n",
    "df['pvi'] = (df['REP'] * .5 + df['REP_previous_year'] * .5 ) - (df['REP_national'] *.5 + df['REP_previous_year_national'] * .5)\n",
    "df['fte_pvi'] = (df['REP'] * .75 + df['REP_previous_year'] * .25 ) - (df['REP_national'] *.75 + df['REP_previous_year_national'] * .25)\n",
    "\n",
    "df[df['year'] == 2016].head()\n",
    "pvi_df = df"
   ]
  },
  {
   "cell_type": "code",
   "execution_count": null,
   "metadata": {},
   "outputs": [],
   "source": [
    "%%R -i df\n",
    "\n",
    "pres_results_by_state\n",
    "ggplot(data=df,aes(x=year, y=pvi, group=state, alpha=.1,col = ifelse(state=='California','gray','red'))) + \n",
    "geom_line()"
   ]
  },
  {
   "cell_type": "markdown",
   "metadata": {},
   "source": [
    "??\n",
    "\n",
    "- https://fivethirtyeight.com/features/the-election-map-alone-doesnt-explain-the-2014-republican-wave/\n",
    "- https://fivethirtyeight.com/features/the-2014-senate-elections-were-the-most-nationalized-in-decades/\n",
    "\n",
    "\n",
    "- https://fivethirtyeight.com/features/demographics-not-hacking-explain-the-election-results/\n",
    "- https://fivethirtyeight.com/features/its-not-all-about-clinton-the-midwest-was-getting-redder-before-2016/\n",
    "- https://fivethirtyeight.com/features/demographics-arent-destiny-and-four-other-things-this-election-taught-me/\n"
   ]
  },
  {
   "cell_type": "code",
   "execution_count": null,
   "metadata": {},
   "outputs": [],
   "source": []
  }
 ],
 "metadata": {
  "kernelspec": {
   "display_name": "Python 3",
   "language": "python",
   "name": "python3"
  },
  "language_info": {
   "codemirror_mode": {
    "name": "ipython",
    "version": 3
   },
   "file_extension": ".py",
   "mimetype": "text/x-python",
   "name": "python",
   "nbconvert_exporter": "python",
   "pygments_lexer": "ipython3",
   "version": "3.6.0"
  }
 },
 "nbformat": 4,
 "nbformat_minor": 2
}

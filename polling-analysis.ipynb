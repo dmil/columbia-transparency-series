{
 "cells": [
  {
   "cell_type": "markdown",
   "metadata": {},
   "source": [
    "# Module 3: Analyzing Election Polls"
   ]
  },
  {
   "cell_type": "code",
   "execution_count": 1,
   "metadata": {},
   "outputs": [],
   "source": [
    "import pandas as pd\n",
    "import numpy as np\n",
    "import us\n",
    "from utils import download_pres_results"
   ]
  },
  {
   "cell_type": "markdown",
   "metadata": {},
   "source": [
    "Step 1: Download Data\n",
    "- [Election Results](https://docs.google.com/spreadsheets/d/1D-edaVHTnZNhVU840EPUhz3Cgd7m39Urx7HM8Pq6Pus/edit#gid=29622862)\n",
    "- Population Estimates By State\n",
    "- [Polls](https://github.com/fivethirtyeight/data/tree/master/pollster-ratings)\n",
    "- [Pollster Ratings](https://github.com/fivethirtyeight/data/tree/master/pollster-ratings)\n",
    "- Census"
   ]
  },
  {
   "cell_type": "code",
   "execution_count": 18,
   "metadata": {},
   "outputs": [],
   "source": [
    "polls = pd.read_csv('raw-polls.csv')\n",
    "pollster_ratings = pd.read_csv('pollster-ratings.csv')\n",
    "pres_results = download_pres_results()"
   ]
  },
  {
   "cell_type": "markdown",
   "metadata": {},
   "source": [
    "*Presidential Polls*\n",
    "\n",
    "Exercise 1: Particular Polls vs Average of the Polls (2016 only, then all)\n",
    "\n",
    "Exercise 2: Adjusted Average of the Polls (2016 only, then all)\n",
    "\n",
    "Exercise 3: Average polling error in 2016 (compared to past years)\n"
   ]
  },
  {
   "cell_type": "code",
   "execution_count": 19,
   "metadata": {},
   "outputs": [],
   "source": [
    "def state_to_abbrev(state):\n",
    "    return us.states.lookup(state).abbr\n",
    "\n",
    "pres_results_national = pres_results[pres_results.state == 'Nationwide']"
   ]
  },
  {
   "cell_type": "code",
   "execution_count": 4,
   "metadata": {
    "scrolled": true
   },
   "outputs": [
    {
     "data": {
      "text/html": [
       "<div>\n",
       "<style scoped>\n",
       "    .dataframe tbody tr th:only-of-type {\n",
       "        vertical-align: middle;\n",
       "    }\n",
       "\n",
       "    .dataframe tbody tr th {\n",
       "        vertical-align: top;\n",
       "    }\n",
       "\n",
       "    .dataframe thead th {\n",
       "        text-align: right;\n",
       "    }\n",
       "</style>\n",
       "<table border=\"1\" class=\"dataframe\">\n",
       "  <thead>\n",
       "    <tr style=\"text-align: right;\">\n",
       "      <th></th>\n",
       "      <th>DEM</th>\n",
       "      <th>REP</th>\n",
       "      <th>PVI</th>\n",
       "      <th>year</th>\n",
       "      <th>state</th>\n",
       "      <th>d_margin</th>\n",
       "      <th>state_abbrev</th>\n",
       "      <th>race</th>\n",
       "    </tr>\n",
       "  </thead>\n",
       "  <tbody>\n",
       "    <tr>\n",
       "      <th>2</th>\n",
       "      <td>35.599998</td>\n",
       "      <td>64.400002</td>\n",
       "      <td>R+15.0</td>\n",
       "      <td>2016</td>\n",
       "      <td>Alabama</td>\n",
       "      <td>-28.800003</td>\n",
       "      <td>AL</td>\n",
       "      <td>2016_Pres-G_AL</td>\n",
       "    </tr>\n",
       "    <tr>\n",
       "      <th>3</th>\n",
       "      <td>41.599998</td>\n",
       "      <td>58.400002</td>\n",
       "      <td>R+9.0</td>\n",
       "      <td>2016</td>\n",
       "      <td>Alaska</td>\n",
       "      <td>-16.800003</td>\n",
       "      <td>AK</td>\n",
       "      <td>2016_Pres-G_AK</td>\n",
       "    </tr>\n",
       "    <tr>\n",
       "      <th>4</th>\n",
       "      <td>48.099998</td>\n",
       "      <td>51.900002</td>\n",
       "      <td>R+3.0</td>\n",
       "      <td>2016</td>\n",
       "      <td>Arizona</td>\n",
       "      <td>-3.800003</td>\n",
       "      <td>AZ</td>\n",
       "      <td>2016_Pres-G_AZ</td>\n",
       "    </tr>\n",
       "    <tr>\n",
       "      <th>5</th>\n",
       "      <td>35.700001</td>\n",
       "      <td>64.300003</td>\n",
       "      <td>R+15.0</td>\n",
       "      <td>2016</td>\n",
       "      <td>Arkansas</td>\n",
       "      <td>-28.600002</td>\n",
       "      <td>AR</td>\n",
       "      <td>2016_Pres-G_AR</td>\n",
       "    </tr>\n",
       "    <tr>\n",
       "      <th>6</th>\n",
       "      <td>66.099998</td>\n",
       "      <td>33.900002</td>\n",
       "      <td>D+15.0</td>\n",
       "      <td>2016</td>\n",
       "      <td>California</td>\n",
       "      <td>32.199997</td>\n",
       "      <td>CA</td>\n",
       "      <td>2016_Pres-G_CA</td>\n",
       "    </tr>\n",
       "  </tbody>\n",
       "</table>\n",
       "</div>"
      ],
      "text/plain": [
       "         DEM        REP     PVI  year       state   d_margin state_abbrev  \\\n",
       "2  35.599998  64.400002  R+15.0  2016     Alabama -28.800003           AL   \n",
       "3  41.599998  58.400002   R+9.0  2016      Alaska -16.800003           AK   \n",
       "4  48.099998  51.900002   R+3.0  2016     Arizona  -3.800003           AZ   \n",
       "5  35.700001  64.300003  R+15.0  2016    Arkansas -28.600002           AR   \n",
       "6  66.099998  33.900002  D+15.0  2016  California  32.199997           CA   \n",
       "\n",
       "             race  \n",
       "2  2016_Pres-G_AL  \n",
       "3  2016_Pres-G_AK  \n",
       "4  2016_Pres-G_AZ  \n",
       "5  2016_Pres-G_AR  \n",
       "6  2016_Pres-G_CA  "
      ]
     },
     "execution_count": 4,
     "metadata": {},
     "output_type": "execute_result"
    }
   ],
   "source": [
    "pres_results = pres_results[~pres_results.state.isin(['Washington DC','Nationwide'])]\n",
    "pres_results['state_abbrev'] = pres_results.state.apply(state_to_abbrev)\n",
    "pres_results['race'] =  pres_results.year.astype('str') + '_Pres-G_' + pres_results.state_abbrev\n",
    "pres_results.head()"
   ]
  },
  {
   "cell_type": "code",
   "execution_count": 11,
   "metadata": {},
   "outputs": [],
   "source": [
    "pres_polls_national = polls[(polls.type_detail=='Pres-G') & (polls.location == 'US')]\n",
    "pres_polls = polls[(polls.type_detail=='Pres-G') & ~(polls.location == 'US')]"
   ]
  },
  {
   "cell_type": "code",
   "execution_count": null,
   "metadata": {},
   "outputs": [],
   "source": []
  }
 ],
 "metadata": {
  "kernelspec": {
   "display_name": "Python 3",
   "language": "python",
   "name": "python3"
  },
  "language_info": {
   "codemirror_mode": {
    "name": "ipython",
    "version": 3
   },
   "file_extension": ".py",
   "mimetype": "text/x-python",
   "name": "python",
   "nbconvert_exporter": "python",
   "pygments_lexer": "ipython3",
   "version": "3.6.0"
  }
 },
 "nbformat": 4,
 "nbformat_minor": 2
}

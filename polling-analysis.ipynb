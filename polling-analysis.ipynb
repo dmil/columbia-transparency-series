{
 "cells": [
  {
   "cell_type": "markdown",
   "metadata": {},
   "source": [
    "# Thinking About An Upcoming Election"
   ]
  },
  {
   "cell_type": "code",
   "execution_count": null,
   "metadata": {},
   "outputs": [],
   "source": [
    "polls = pd.read_csv('raw-polls.csv')\n",
    "pres_polls_national = polls[(polls.type_detail=='Pres-G') & (polls.location == 'US')]\n",
    "pres_polls_by_state = polls[(polls.type_detail=='Pres-G') & (polls.location != 'US')]"
   ]
  },
  {
   "cell_type": "code",
   "execution_count": null,
   "metadata": {},
   "outputs": [],
   "source": [
    "def margin_dotplot(df, x, y, figsize=(16,4)):\n",
    "    \"\"\"\n",
    "    plot margin_poll (grey), average of margin_poll (white), and\n",
    "    margin_actual (blue/red)\n",
    "    \"\"\"\n",
    "    data = df.sort_values(by=y)\n",
    "    fig, ax = plt.subplots(figsize=figsize)\n",
    "    sns.stripplot(data=data,\n",
    "                       x='margin_actual', y=y, orient='h', size=15,\n",
    "                       hue=data['margin_actual'].apply(lambda x: 'D' if x > 0 else 'R'),\n",
    "                       palette={'D':'blue', 'R': 'red'},\n",
    "                       jitter=False, alpha=.25, ax=ax)\n",
    "\n",
    "    sns.stripplot(data=data,\n",
    "                       x=x, y=y, orient='h', size=15,\n",
    "                       jitter=False, alpha=.35, color='grey', ax=ax)        \n",
    "    data = (data.groupby(y)[x]\n",
    "                .agg({x: 'mean'})\n",
    "                .sort_values(by=y).reset_index())\n",
    "    sns.stripplot(data=data,\n",
    "                  x=x, y=y, orient='h', size=15,\n",
    "                  color='white', linewidth=1, jitter=False, ax=ax)    \n",
    "        \n",
    "    plt.axvline(x=0, color='black', linewidth=0.8)\n",
    "    ax.xaxis.grid(True)\n",
    "    ax.yaxis.grid(True)\n",
    "\n",
    "def dotplot(df, x, y, figsize=(16,4)):\n",
    "    \"\"\"\n",
    "    plot any arbitray x (grey) and y with the average of x (white)\n",
    "    \"\"\"\n",
    "    data = df.sort_values(by=y)\n",
    "    fig, ax = plt.subplots(figsize=figsize)\n",
    "    sns.stripplot(data=data,\n",
    "                       x=x, y=y, orient='h', size=15,\n",
    "                       jitter=False, alpha=.35, color='grey', ax=ax)\n",
    "    data = data.groupby(y)[x].agg({x: 'mean'}).sort_values(by=y).reset_index()\n",
    "    sns.stripplot(data=data,\n",
    "                  x=x, y=y, orient='h', size=15,\n",
    "                  color='white', linewidth=1, jitter=False, ax=ax)\n",
    "    plt.axvline(x=0, color='black', linewidth=0.8)\n",
    "    ax.xaxis.grid(True)\n",
    "    ax.yaxis.grid(True)"
   ]
  },
  {
   "cell_type": "markdown",
   "metadata": {},
   "source": [
    "#### nationwide popular vote: polls versus election results for each year\n",
    "\n",
    "\n",
    "- plot\n",
    "- look @ average error in table"
   ]
  },
  {
   "cell_type": "code",
   "execution_count": null,
   "metadata": {},
   "outputs": [],
   "source": [
    "margin_dotplot(pres_polls_national, x='margin_poll', y='year')"
   ]
  },
  {
   "cell_type": "code",
   "execution_count": null,
   "metadata": {},
   "outputs": [],
   "source": [
    "pres_polls_national[['year', 'bias']].groupby('year').mean()"
   ]
  },
  {
   "cell_type": "markdown",
   "metadata": {},
   "source": [
    "#### state by state polls vs popular vote for 2016\n",
    "\n",
    "- plot\n",
    "- look @ average error in table"
   ]
  },
  {
   "cell_type": "code",
   "execution_count": null,
   "metadata": {},
   "outputs": [],
   "source": [
    "pres_polls_by_state_2016 = pres_polls_by_state[pres_polls_by_state.year == 2016]\n",
    "margin_dotplot(pres_polls_by_state_2016, x='margin_poll', y='location', figsize=(8,25))"
   ]
  },
  {
   "cell_type": "markdown",
   "metadata": {},
   "source": [
    "#### state by state average errors for each year\n",
    "\n",
    "\n",
    "- plot\n",
    "- look @ average error in table"
   ]
  },
  {
   "cell_type": "code",
   "execution_count": null,
   "metadata": {},
   "outputs": [],
   "source": [
    "dotplot(pres_polls_by_state, x='bias', y='year', figsize=(16,4))"
   ]
  },
  {
   "cell_type": "code",
   "execution_count": null,
   "metadata": {},
   "outputs": [],
   "source": [
    "pres_polls_by_state[['year', 'bias']].groupby('year').mean()"
   ]
  },
  {
   "cell_type": "markdown",
   "metadata": {},
   "source": [
    "#### Step 2: Polling averages and adjustment\n",
    "\n",
    "* state by state 2016 polls\n",
    "    1. plot (y axis = state - plot each poll, average of polls, and election result)\n",
    "    2. plot (y axis = state - plot each *adjusted* poll, *adjusted* average of polls, and election result)\n",
    "    3. plot (y axis = state - plot average, adjusted average, and election result\n",
    "* do the last chart with national 2016 as well as national for all years"
   ]
  },
  {
   "cell_type": "markdown",
   "metadata": {},
   "source": [
    "https://fivethirtyeight.com/features/how-fivethirtyeight-calculates-pollster-ratings/"
   ]
  },
  {
   "cell_type": "code",
   "execution_count": null,
   "metadata": {},
   "outputs": [],
   "source": [
    "polls = pd.read_csv('raw-polls.csv')\n",
    "pollster_ratings = pd.read_csv('pollster-ratings.csv').set_index('Pollster')\n",
    "\n",
    "pollster_mapping = {\n",
    "    'Field Research Corporation (Field Poll)': 'Field Research Corp. (Field Poll)',\n",
    "    'Selzer & Company': 'Selzer & Co.',\n",
    "    'Ed Renwick/Loyola University': 'Ed Renwick/Loyola University New Orleans',\n",
    "    'Abt SRBI': 'Abt Associates',\n",
    "    'Marquette Law School': 'Marquette University Law School',\n",
    "    'Google Consumer Surveys': 'Google Surveys',\n",
    "    'Fox News/Anderson Robbins Research/Shaw & Company Research': 'Fox News/Anderson Robbins Research/Shaw & Co. Research',\n",
    "    'Craciun Research': 'Craciun Research Group',\n",
    "    'Cygnal Political': 'Cygnal',\n",
    "    'US News & World Report': 'U.S. News & World Report',\n",
    "    'Red Racing Horses': 'RRH Elections',\n",
    "}\n",
    "\n",
    "polls['pollster'] = polls.pollster.apply(lambda x: x.replace(', Inc.', ' Inc.'))\n",
    "polls['pollster'] = polls.pollster.apply(lambda x: x.replace(', LLC', ' LLC'))\n",
    "polls['pollster'] = polls.pollster.apply(lambda x: pollster_mapping.get(x, x))\n",
    "\n",
    "polls['grade'] = polls.pollster.apply(lambda x: pollster_ratings.loc[x]['538 Grade'] if x in pollster_ratings.index else None)\n",
    "polls['mrb'] = polls.pollster.apply(lambda x: pollster_ratings.loc[x]['Mean-Reverted Bias'] if x in pollster_ratings.index else None)\n",
    "polls['mrb'] = pd.to_numeric(polls['mrb'].str.replace('D +', '', regex=False).str.replace('R +', '-', regex=False))\n",
    "\n",
    "polls['margin_poll_adjusted'] = polls['margin_poll'] - polls['mrb']\n",
    "polls['bias_adjusted'] = polls.margin_poll_adjusted - polls.margin_actual\n",
    "polls['error_adjusted'] = np.abs(polls.margin_poll_adjusted - polls.margin_actual)\n",
    "\n",
    "pres_polls_national = polls[(polls.type_detail=='Pres-G') & (polls.location == 'US')]\n",
    "pres_polls_by_state = polls[(polls.type_detail=='Pres-G') & (polls.location != 'US')]\n",
    "\n",
    "pres_polls_national_2016 = pres_polls_national[pres_polls_national.year == 2016]\n",
    "pres_polls_by_state_2016 = pres_polls_by_state[pres_polls_by_state.year == 2016]"
   ]
  },
  {
   "cell_type": "code",
   "execution_count": null,
   "metadata": {},
   "outputs": [],
   "source": [
    "pres_polls_national_2016[['bias', 'bias_adjusted']].mean()"
   ]
  },
  {
   "cell_type": "code",
   "execution_count": null,
   "metadata": {},
   "outputs": [],
   "source": [
    "pres_polls_by_state_2016[['bias', 'bias_adjusted']].mean()"
   ]
  },
  {
   "cell_type": "code",
   "execution_count": null,
   "metadata": {},
   "outputs": [],
   "source": [
    "pres_polls_by_state_2016[pres_polls_by_state_2016.location == \"DC\"][['pollster', 'grade', 'margin_actual', 'margin_poll', 'margin_poll_adjusted', 'mrb', 'bias', 'bias_adjusted']]"
   ]
  },
  {
   "cell_type": "code",
   "execution_count": null,
   "metadata": {},
   "outputs": [],
   "source": [
    "tmpdf = pres_polls_by_state_2016.groupby('location') # 'error': 'mean', 'error_adjusted': 'mean'\n",
    "\n",
    "tmpdf = pd.concat([\n",
    "    tmpdf.agg({'bias': 'mean', 'bias_adjusted': 'mean'}),\n",
    "    pd.DataFrame(tmpdf.size()),\n",
    "], axis=1)\n",
    "tmpdf['difference'] = np.abs(tmpdf.bias) - np.abs(tmpdf.bias_adjusted)\n",
    "tmpdf.sort_values(by=0, ascending=False)"
   ]
  },
  {
   "cell_type": "markdown",
   "metadata": {},
   "source": [
    "## Answering Questions with Data\n",
    "\n",
    "Lets prove or disprove some hypotheses\n",
    "- As goes Ohio, so goes the nation.\n",
    "- Texas is going blue\n",
    "- ...come up with a few more"
   ]
  },
  {
   "cell_type": "markdown",
   "metadata": {},
   "source": [
    "## Polls Stories\n",
    "\n",
    "- https://fivethirtyeight.com/features/how-much-the-polls-missed-by-in-every-state/\n",
    "- https://fivethirtyeight.com/features/pollsters-probably-didnt-talk-to-enough-white-voters-without-college-degrees/\n",
    "- https://fivethirtyeight.com/features/what-a-difference-2-percentage-points-makes/\n",
    "- https://fivethirtyeight.com/features/shy-voters-probably-arent-why-the-polls-missed-trump/\n",
    "- https://fivethirtyeight.com/features/the-polls-missed-trump-we-asked-pollsters-why/\n",
    "- https://fivethirtyeight.com/features/why-fivethirtyeight-gave-trump-a-better-chance-than-almost-anyone-else/\n",
    "- https://fivethirtyeight.com/features/the-polls-are-all-right/\n",
    "- https://fivethirtyeight.com/features/trump-is-just-a-normal-polling-error-behind-clinton/\n"
   ]
  },
  {
   "cell_type": "markdown",
   "metadata": {},
   "source": [
    "# The 2018 FiveThirtyEight Forecasts\n",
    "\n",
    "- https://projects.fivethirtyeight.com/2018-midterm-election-forecast/senate\n",
    "- https://projects.fivethirtyeight.com/2018-midterm-election-forecast/house\n",
    "\n",
    "# Some other folks\n",
    "\n",
    "- [CNN](https://www.cnn.com/election/2018/forecast)\n",
    "- [Daily Kos](https://elections.dailykos.com/)\n",
    "- [New York Times - Real Time Polling!](https://www.nytimes.com/interactive/2018/upshot/elections-polls.html)\n"
   ]
  },
  {
   "cell_type": "markdown",
   "metadata": {},
   "source": [
    "# Visualizing Uncertainty\n",
    "\n",
    "- FiveThirtyEight in [2010](https://www.nytimes.com/elections/2010/forecasts/senate.html), [2014](https://fivethirtyeight.com/interactives/senate-forecast/), [2016](https://projects.fivethirtyeight.com/2016-election-forecast/), [2018](https://projects.fivethirtyeight.com/2018-midterm-election-forecast/house/)\n",
    "    * I think 2010 still works in Safari...\n",
    "- New York Times\n",
    "    * The Spinners https://www.nytimes.com/2014/11/01/upshot/how-confirmation-bias-can-lead-to-a-spinning-of-wheels.html\n",
    "    * The Needle https://www.youtube.com/watch?v=iq5rW6zYeP4\n",
    "- [Huffpost's](http://elections.huffingtonpost.com/pollster) custom charts.\n",
    "\n"
   ]
  }
 ],
 "metadata": {
  "kernelspec": {
   "display_name": "Python 3",
   "language": "python",
   "name": "python3"
  },
  "language_info": {
   "codemirror_mode": {
    "name": "ipython",
    "version": 3
   },
   "file_extension": ".py",
   "mimetype": "text/x-python",
   "name": "python",
   "nbconvert_exporter": "python",
   "pygments_lexer": "ipython3",
   "version": "3.6.0"
  }
 },
 "nbformat": 4,
 "nbformat_minor": 2
}
